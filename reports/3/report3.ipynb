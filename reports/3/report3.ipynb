{
 "cells": [
  {
   "cell_type": "markdown",
   "metadata": {},
   "source": [
    "# システム解析論 レポート 3"
   ]
  },
  {
   "cell_type": "markdown",
   "metadata": {},
   "source": [
    "29C23002 石川健太郎"
   ]
  },
  {
   "cell_type": "markdown",
   "metadata": {},
   "source": [
    "## 結果"
   ]
  },
  {
   "cell_type": "markdown",
   "metadata": {},
   "source": [
    "`AcousticalMeasurement.sce` で出力された図は以下の通り。\n",
    "\n",
    "![図1](https://gcdnb.pbrd.co/images/NUfN9fKOWo06.png?o=1)"
   ]
  },
  {
   "cell_type": "markdown",
   "metadata": {},
   "source": [
    "`AcoustParaCalculation.sce` の出力は以下の通り。\n",
    "\n",
    "```\n",
    "The hall is MyRoomIR.\n",
    "The reverberation time is 0.28 seconds.\n",
    "The IACC is 1.00.\n",
    "The STI is 0.98.\n",
    "```"
   ]
  },
  {
   "cell_type": "markdown",
   "metadata": {},
   "source": [
    "## 考察"
   ]
  },
  {
   "cell_type": "markdown",
   "metadata": {},
   "source": [
    "IACC は 1.0 と非常に大きい。\n",
    "これは、音像が極めて明瞭であることを意味する。\n",
    "音を出している端末のすぐ横に録音する端末を置いた影響が大きいと考えられる。\n",
    "\n",
    "STI も 0.98 と非常に大きい。\n",
    "これは反射音や騒音がほとんどないことを意味している。\n",
    "\n",
    "IACC や STI が示すように、 measured.wav の音声はホワイトノイズが入っているだけで、それ以外はもとの音声とほぼ同じである。\n",
    "インパルス応答の図からも、反射音が非常に小さいことがわかる。"
   ]
  },
  {
   "cell_type": "markdown",
   "metadata": {},
   "source": [
    "## 添付ファイル"
   ]
  },
  {
   "cell_type": "markdown",
   "metadata": {},
   "source": [
    "| ファイル名 | 内容 |\n",
    "| --- | --- |\n",
    "| measured.wav | 録音した音声ファイル |"
   ]
  }
 ],
 "metadata": {
  "kernelspec": {
   "display_name": "Scilab",
   "language": "scilab",
   "name": "scilab"
  },
  "language_info": {
   "file_extension": ".sci",
   "help_links": [
    {
     "text": "MetaKernel Magics",
     "url": "https://metakernel.readthedocs.io/en/latest/source/README.html"
    }
   ],
   "mimetype": "text/x-octave",
   "name": "scilab",
   "version": "0.9.10"
  },
  "orig_nbformat": 4
 },
 "nbformat": 4,
 "nbformat_minor": 2
}
